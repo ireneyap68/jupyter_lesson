{
 "cells": [
  {
   "cell_type": "code",
   "execution_count": 1,
   "metadata": {},
   "outputs": [],
   "source": [
    "from selenium import webdriver"
   ]
  },
  {
   "cell_type": "code",
   "execution_count": 2,
   "metadata": {},
   "outputs": [],
   "source": [
    "import json, re, datetime, time, requests"
   ]
  },
  {
   "cell_type": "code",
   "execution_count": 8,
   "metadata": {},
   "outputs": [
    {
     "name": "stdout",
     "output_type": "stream",
     "text": [
      "<selenium.webdriver.chrome.webdriver.WebDriver (session=\"350ac11e42392323bbe6e8e081d58bff\")>\n"
     ]
    }
   ],
   "source": [
    "# Start the driver\n",
    "driver = webdriver.Chrome(executable_path='/Users/airine/Downloads/chromedriver')\n",
    "print(driver)\n",
    "\n",
    "# driver.quit()"
   ]
  },
  {
   "cell_type": "code",
   "execution_count": 10,
   "metadata": {},
   "outputs": [
    {
     "name": "stdout",
     "output_type": "stream",
     "text": [
      "* going to twitter\n"
     ]
    }
   ],
   "source": [
    "# Goto Twitter\n",
    "driver.get('https://twitter.com/login')\n",
    "print('*', 'going to twitter')"
   ]
  },
  {
   "cell_type": "code",
   "execution_count": 23,
   "metadata": {},
   "outputs": [],
   "source": [
    "# get username, input username\n",
    "username = driver.find_element_by_xpath('//*[@id=\"react-root\"]/div/div/div[2]/main/div/div/div[1]/form/div/div[1]/label/div/div[2]/div/input')\n",
    "username.send_keys('airine02823604')"
   ]
  },
  {
   "cell_type": "code",
   "execution_count": 24,
   "metadata": {
    "scrolled": false
   },
   "outputs": [],
   "source": [
    "from keys import password"
   ]
  },
  {
   "cell_type": "code",
   "execution_count": 30,
   "metadata": {},
   "outputs": [
    {
     "name": "stdout",
     "output_type": "stream",
     "text": [
      "<selenium.webdriver.remote.webelement.WebElement (session=\"350ac11e42392323bbe6e8e081d58bff\", element=\"ea597261-7115-4a38-a67d-a3f913e28bc4\")>\n",
      "* This is working...\n"
     ]
    }
   ],
   "source": [
    "password_input = driver.find_element_by_xpath('//*[@id=\"react-root\"]/div/div/div[2]/main/div/div/div[1]/form/div/div[2]/label/div/div[2]/div/input')\n",
    "print(password_input)\n",
    "password_input.send_keys('password1234')\n",
    "print('*','This is working...')"
   ]
  },
  {
   "cell_type": "code",
   "execution_count": 31,
   "metadata": {},
   "outputs": [],
   "source": [
    "# Make login button, and click login\n",
    "login_button = driver.find_element_by_xpath('//*[@id=\"react-root\"]/div/div/div[2]/main/div/div/div[1]/form/div/div[3]/div/div')\n",
    "login_button.click()"
   ]
  },
  {
   "cell_type": "code",
   "execution_count": 34,
   "metadata": {},
   "outputs": [
    {
     "name": "stdout",
     "output_type": "stream",
     "text": [
      "Donald J. Trump Retweeted\n",
      "Sen. James Lankford\n",
      "@SenatorLankford\n",
      "·\n",
      "7h\n",
      "(1/2) I look forward to considering and voting on \n",
      "@realDonaldTrump\n",
      " nominee to fill the Supreme Court vacancy before the end of the year. If the President puts forward a nomination, the Senate has the authority to provide advice and consent and I take this role very seriously.\n",
      "823\n",
      "2.6K\n",
      "11.6K\n"
     ]
    }
   ],
   "source": [
    "tweet = driver.find_element_by_xpath('//*[@id=\"react-root\"]/div/div/div[2]/main/div/div/div/div/div/div[4]/div/div/section/div/div/div[13]/div/div/article/div/div').text\n",
    "print(tweet)"
   ]
  },
  {
   "cell_type": "code",
   "execution_count": 36,
   "metadata": {},
   "outputs": [
    {
     "name": "stdout",
     "output_type": "stream",
     "text": [
      "['Donald J. Trump Retweeted', 'Sen. James Lankford', '@SenatorLankford', '·', '7h', '(1/2) I look forward to considering and voting on ', '@realDonaldTrump', ' nominee to fill the Supreme Court vacancy before the end of the year. If the President puts forward a nomination, the Senate has the authority to provide advice and consent and I take this role very seriously.', '823', '2.6K', '11.6K']\n"
     ]
    }
   ],
   "source": [
    "tweet_list = tweet.split('\\n')\n",
    "print(tweet_list)"
   ]
  },
  {
   "cell_type": "code",
   "execution_count": 39,
   "metadata": {},
   "outputs": [
    {
     "name": "stdout",
     "output_type": "stream",
     "text": [
      "(1/2) I look forward to considering and voting on  @realDonaldTrump  nominee to fill the Supreme Court vacancy before the end of the year. If the President puts forward a nomination, the Senate has the authority to provide advice and consent and I take this role very seriously.\n"
     ]
    }
   ],
   "source": [
    "name = tweet_list[0]\n",
    "username = tweet_list[1]\n",
    "actual_tweet = tweet_list[5:-3]\n",
    "\n",
    "final_tweet = \" \".join(actual_tweet)\n",
    "likes = tweet_list[-1]\n",
    "\n",
    "print(final_tweet)"
   ]
  },
  {
   "cell_type": "code",
   "execution_count": null,
   "metadata": {},
   "outputs": [],
   "source": []
  }
 ],
 "metadata": {
  "kernelspec": {
   "display_name": "Python 3",
   "language": "python",
   "name": "python3"
  },
  "language_info": {
   "codemirror_mode": {
    "name": "ipython",
    "version": 3
   },
   "file_extension": ".py",
   "mimetype": "text/x-python",
   "name": "python",
   "nbconvert_exporter": "python",
   "pygments_lexer": "ipython3",
   "version": "3.8.5"
  }
 },
 "nbformat": 4,
 "nbformat_minor": 4
}
